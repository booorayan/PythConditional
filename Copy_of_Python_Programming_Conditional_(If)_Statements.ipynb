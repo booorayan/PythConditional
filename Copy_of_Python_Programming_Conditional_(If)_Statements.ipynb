{
  "nbformat": 4,
  "nbformat_minor": 0,
  "metadata": {
    "colab": {
      "name": "Copy of Python Programming: Conditional (If) Statements",
      "version": "0.3.2",
      "provenance": [],
      "collapsed_sections": [],
      "toc_visible": true,
      "include_colab_link": true
    },
    "kernelspec": {
      "name": "python3",
      "display_name": "Python 3"
    }
  },
  "cells": [
    {
      "cell_type": "markdown",
      "metadata": {
        "id": "view-in-github",
        "colab_type": "text"
      },
      "source": [
        "<a href=\"https://colab.research.google.com/github/booorayan/PythConditional/blob/master/Copy_of_Python_Programming_Conditional_(If)_Statements.ipynb\" target=\"_parent\"><img src=\"https://colab.research.google.com/assets/colab-badge.svg\" alt=\"Open In Colab\"/></a>"
      ]
    },
    {
      "cell_type": "markdown",
      "metadata": {
        "id": "56wIrIHaAD6t",
        "colab_type": "text"
      },
      "source": [
        "<font color=\"green\">*To start working on this notebook, or any other notebook that we will use in this course, we will need to save our own copy of it. We can do this by clicking File > Save a Copy in Drive. We will then be able to make edits to our own copy of this notebook.*</font>"
      ]
    },
    {
      "cell_type": "markdown",
      "metadata": {
        "id": "LVp8C4oB0yzk",
        "colab_type": "text"
      },
      "source": [
        "# Python Programming: Conditional (If) Statements"
      ]
    },
    {
      "cell_type": "markdown",
      "metadata": {
        "id": "z4xtgHIJ1mui",
        "colab_type": "text"
      },
      "source": [
        "## 1.0 Overview"
      ]
    },
    {
      "cell_type": "markdown",
      "metadata": {
        "id": "fS6UBkKd2DMo",
        "colab_type": "text"
      },
      "source": [
        "So as to write useful python programs, we almost always need the ability to check conditions and apply a certain operation accordingly. Conditional statements like the if statement provide us with that ability."
      ]
    },
    {
      "cell_type": "markdown",
      "metadata": {
        "id": "lsZdOcCiAQdJ",
        "colab_type": "text"
      },
      "source": [
        "##1.1 If"
      ]
    },
    {
      "cell_type": "code",
      "metadata": {
        "id": "-6728JH-2Esz",
        "colab_type": "code",
        "colab": {}
      },
      "source": [
        "# Example 1\n",
        "# We can write an if statement by using the if keyword as shown:\n",
        "#\n",
        "x = 200\n",
        "y = 100\n",
        "if y < x:\n",
        "  print(\"y is less than x\")"
      ],
      "execution_count": 0,
      "outputs": []
    },
    {
      "cell_type": "code",
      "metadata": {
        "id": "ueDGWWPm2FHW",
        "colab_type": "code",
        "colab": {}
      },
      "source": [
        "# Example 2\n",
        "# Below is another example of an if statement\n",
        "#\n",
        "x = 1\n",
        "y = 7\n",
        "\n",
        "# let's find out if x is greater than 7\n",
        "if x > y: \n",
        "  print('yes')"
      ],
      "execution_count": 0,
      "outputs": []
    },
    {
      "cell_type": "markdown",
      "metadata": {
        "id": "MB_zJqo-41tc",
        "colab_type": "text"
      },
      "source": [
        "### <font color=\"green\">1.1 Challenges</font>"
      ]
    },
    {
      "cell_type": "code",
      "metadata": {
        "id": "DD_AaNYQFjQw",
        "colab_type": "code",
        "colab": {}
      },
      "source": [
        "# Challenge 1\n",
        "# In our first challenge, we will find out if y is less than 7 \n",
        "# If so, we will print out yes.\n",
        "#\n",
        "\n",
        "# We first declare and assign 1 to variable x and 7 to variable y\n",
        "x = 1\n",
        "y = 7\n",
        "\n",
        "if y < x:\n",
        "  print('yes')"
      ],
      "execution_count": 0,
      "outputs": []
    },
    {
      "cell_type": "code",
      "metadata": {
        "id": "56hXs9yRFjFb",
        "colab_type": "code",
        "outputId": "8464259b-60a5-4089-9186-bd452fd6bd41",
        "colab": {
          "base_uri": "https://localhost:8080/",
          "height": 35
        }
      },
      "source": [
        "# Challenge 2\n",
        "# Let's find out if x == true. If so, we will print out yes.\n",
        "# We won't need to declare any variable in this challenge.\n",
        "#\n",
        "if x == True:\n",
        "  print('yes')"
      ],
      "execution_count": 0,
      "outputs": [
        {
          "output_type": "stream",
          "text": [
            "yes\n"
          ],
          "name": "stdout"
        }
      ]
    },
    {
      "cell_type": "code",
      "metadata": {
        "id": "b6R-wr4xFp5e",
        "colab_type": "code",
        "colab": {}
      },
      "source": [
        "# Challenge 3\n",
        "# Let's find out if y is true. If so, we will print out yes. \n",
        "# We won't need to declare any variable in this challenge as well\n",
        "#\n",
        "if y == True:\n",
        "  print(yes)"
      ],
      "execution_count": 0,
      "outputs": []
    },
    {
      "cell_type": "markdown",
      "metadata": {
        "id": "e8-T8Xw-1qYp",
        "colab_type": "text"
      },
      "source": [
        "## 1.2 Elif"
      ]
    },
    {
      "cell_type": "code",
      "metadata": {
        "id": "ERoyYLdk2MLL",
        "colab_type": "code",
        "outputId": "e39a88d5-89c9-4fef-eaf6-9bbd5bb42937",
        "colab": {
          "base_uri": "https://localhost:8080/",
          "height": 35
        }
      },
      "source": [
        "# Example 1\n",
        "# The elif keyword is a keyword that will try another condition \n",
        "# if the previous condition was not true.\n",
        "# The example below shows how the elif keyword can be used.\n",
        "# \n",
        "x = 33\n",
        "y = 33\n",
        "\n",
        "if y < x:\n",
        "  print(\"y is less than x\")\n",
        "elif x == y:\n",
        "  print(\"x and y are equal\")"
      ],
      "execution_count": 0,
      "outputs": [
        {
          "output_type": "stream",
          "text": [
            "x and y are equal\n"
          ],
          "name": "stdout"
        }
      ]
    },
    {
      "cell_type": "code",
      "metadata": {
        "id": "GT8Q7jdf2Mze",
        "colab_type": "code",
        "outputId": "acad1b5e-6aab-4d85-d688-355ad8ec6014",
        "colab": {
          "base_uri": "https://localhost:8080/",
          "height": 35
        }
      },
      "source": [
        "# Example 2\n",
        "# This is another example of how the elif keyword can be used.\n",
        "#\n",
        "choice = 'a'\n",
        "if choice == 'a':\n",
        "    print(\"You chose 'a'.\")\n",
        "elif choice == 'b':\n",
        "    print(\"You chose 'b'.\")\n",
        "elif choice == 'c':\n",
        "    print(\"You chose 'c'.\")"
      ],
      "execution_count": 0,
      "outputs": [
        {
          "output_type": "stream",
          "text": [
            "You chose 'a'.\n"
          ],
          "name": "stdout"
        }
      ]
    },
    {
      "cell_type": "markdown",
      "metadata": {
        "id": "Rkw7o23I2N3w",
        "colab_type": "text"
      },
      "source": [
        "### <font color=\"green\">1.2 Challenges </font>"
      ]
    },
    {
      "cell_type": "code",
      "metadata": {
        "id": "4yVpcy0f2RBM",
        "colab_type": "code",
        "outputId": "31f7d42b-6b94-4393-f1ec-0b8b7dbeb93b",
        "colab": {
          "base_uri": "https://localhost:8080/",
          "height": 54
        }
      },
      "source": [
        "# Challenge 1\n",
        "# Let's now write a program that reads an integer \n",
        "# from a user then displays a message indicating \n",
        "# whether the integer is even or odd.\n",
        "#\n",
        "inp = int(input(\"Enter input: \"))\n",
        "\n",
        "if inp % 2 == 0:\n",
        "  print(\"The input number is even\")\n",
        "elif inp % 2 != 0:\n",
        "  print(\"The input number is odd\")"
      ],
      "execution_count": 0,
      "outputs": [
        {
          "output_type": "stream",
          "text": [
            "Enter input: 3\n",
            "The input number is odd\n"
          ],
          "name": "stdout"
        }
      ]
    },
    {
      "cell_type": "code",
      "metadata": {
        "id": "LN1DVYd52R2_",
        "colab_type": "code",
        "outputId": "f2a9ece1-550d-4409-cf1e-bc927d19a914",
        "colab": {
          "base_uri": "https://localhost:8080/",
          "height": 54
        }
      },
      "source": [
        "# Challenge 2: \n",
        "# We now write a program that reads a input from a user. \n",
        "# If the user enters a, e, i, o or u then our program should \n",
        "# display a message indicating that the entered letter is a vowel. \n",
        "# If our user enters y then our program should display a message \n",
        "# indicating that sometimes y is a vowel, and sometimes y is a consonant. \n",
        "# Otherwise our program should display a message indicating that the\n",
        "# letter is a consonant.\n",
        "#\n",
        "inpt = input(\"Enter character: \")\n",
        "\n",
        "vowel = ['a', 'e', 'i', 'o', 'u']\n",
        "if (inpt in vowel):\n",
        "    print(\"Input is a vowel\")\n",
        "elif (inpt == 'y'):\n",
        "    print(\"Sometimes y is a vowel, and sometimes y is a consonant\")\n",
        "else:\n",
        "    print(\"Input is a consonant\")"
      ],
      "execution_count": 0,
      "outputs": [
        {
          "output_type": "stream",
          "text": [
            "Enter character: y\n",
            "Sometimes y is a vowel, and sometimes y is a consonant\n"
          ],
          "name": "stdout"
        }
      ]
    },
    {
      "cell_type": "code",
      "metadata": {
        "id": "WyGQSsN22Rkg",
        "colab_type": "code",
        "outputId": "d8128a6a-7221-42d4-fa17-4d76998b1b3b",
        "colab": {
          "base_uri": "https://localhost:8080/",
          "height": 54
        }
      },
      "source": [
        "# Challenge 3\n",
        "# Let's now also write another program that asks for a number and computes the\n",
        "# square of that number. If the square is 100 or greater, print the squared value\n",
        "# and the word 'big'. Otherwise if the square is 50 or greater, print the\n",
        "# squared value and the word 'medium'. Otherwise just print 'too small to bother with'.\n",
        "# Hint: To compute squared, use x*x or x**2\n",
        "#\n",
        "numbr = int(input(\"Enter a number: \"))\n",
        " \n",
        "nu_numbr = numbr ** 2\n",
        "\n",
        "if nu_numbr >= 100:\n",
        "  print(nu_numbr, \" big\")\n",
        "elif (nu_numbr >= 50 and nu_numbr < 100):\n",
        "  print(nu_numbr, \" medium\")\n",
        "elif (nu_numbr < 50):\n",
        "  print(\"too small to bother with\")"
      ],
      "execution_count": 0,
      "outputs": [
        {
          "output_type": "stream",
          "text": [
            "Enter a number: 7\n",
            "too small to bother with\n"
          ],
          "name": "stdout"
        }
      ]
    },
    {
      "cell_type": "markdown",
      "metadata": {
        "id": "bOZph-F21tuy",
        "colab_type": "text"
      },
      "source": [
        "## 1.3 Else"
      ]
    },
    {
      "cell_type": "code",
      "metadata": {
        "id": "F8nzCtX82v-A",
        "colab_type": "code",
        "colab": {}
      },
      "source": [
        "# Example 1\n",
        "# The else keyword will catch anything else which isn't caught by the preceding conditions.\n",
        "# A use case of else keyword is in the following example. \n",
        "#\n",
        "\n",
        "# Declaring our variables\n",
        "x = 134\n",
        "y = 33\n",
        "\n",
        "if y > x:\n",
        "  print(\"y is greater than x\")\n",
        "elif x == y:\n",
        "  print(\"x and y are equal\")\n",
        "else:\n",
        "  print(\"x is greater than y\")"
      ],
      "execution_count": 0,
      "outputs": []
    },
    {
      "cell_type": "code",
      "metadata": {
        "id": "Zk9b5LJF2wcB",
        "colab_type": "code",
        "colab": {}
      },
      "source": [
        "# Example 2\n",
        "# The else keyword can also be used without elif as shown\n",
        "#\n",
        "\n",
        "# Prompting the user for an input\n",
        "temp_outside = float(input('What is the temperature outside? '))\n",
        "\n",
        "if temp_outside > 12:\n",
        "  print('No need for a sweater')\n",
        "else:\n",
        "  print('You need an sweater') "
      ],
      "execution_count": 0,
      "outputs": []
    },
    {
      "cell_type": "code",
      "metadata": {
        "id": "HaGipQqmvPXE",
        "colab_type": "code",
        "outputId": "74b75e49-2136-4619-a723-e1dad1b47cfc",
        "colab": {
          "base_uri": "https://localhost:8080/",
          "height": 54
        }
      },
      "source": [
        "# Example 3\n",
        "# We should also note that indentation is significantly important as shown\n",
        "# \n",
        "\n",
        "# Declaring our varioable\n",
        "x = 7\n",
        "\n",
        "if x > 12:\n",
        "    print('x is greater than 12')\n",
        "    if x >= 17:\n",
        "        print('x is also at least 17')\n",
        "elif x > 7:\n",
        "    print('x is greater than 7 but not greater than 12')\n",
        "else:\n",
        "    print('no condition matched')\n",
        "    print('so x is 7 or less')"
      ],
      "execution_count": 0,
      "outputs": [
        {
          "output_type": "stream",
          "text": [
            "no condition matched\n",
            "so x is 7 or less\n"
          ],
          "name": "stdout"
        }
      ]
    },
    {
      "cell_type": "markdown",
      "metadata": {
        "id": "X5rie0KH2xAp",
        "colab_type": "text"
      },
      "source": [
        "### <font color=\"green\"> 1.3 Challenges </font>"
      ]
    },
    {
      "cell_type": "code",
      "metadata": {
        "id": "z3TvASOt2zIt",
        "colab_type": "code",
        "outputId": "bb028b16-ee76-4a71-9bdd-85859259d974",
        "colab": {
          "base_uri": "https://localhost:8080/",
          "height": 72
        }
      },
      "source": [
        "# Challenge 1\n",
        "# Let's write a program that reads a month and day from the user. \n",
        "# If the month and day matches one of the holidays listed previously \n",
        "# then the program should display the Kenyan holiday’s name. \n",
        "# Otherwise our program should indicate that the entered month and day \n",
        "# do not correspond to a holiday. (You should use the else keyword)\n",
        "#\n",
        "month = int(input(\"Enter month: \"))\n",
        "day = int(input(\"Enter day: \"))\n",
        "\n",
        "if (month == 12 and day == 12):\n",
        "  print(\"The Holiday is Jamhuri Day\")\n",
        "elif (month == 6 and day == 1):\n",
        "  print(\"The Holiday is Madaraka Day\")\n",
        "elif (month == 5 and day == 1):\n",
        "  print(\"The Holiday is Labour Day\")\n",
        "elif (month == 10 and day == 20):\n",
        "  print(\"The Holiday is Madaraka Day\")\n",
        "elif (month == 12 and day == 25):\n",
        "  print(\"The Holiday is Christmas Day\")\n",
        "else:\n",
        "  print(\"The entered month and day do not correspond to our holiday\")\n",
        " "
      ],
      "execution_count": 0,
      "outputs": [
        {
          "output_type": "stream",
          "text": [
            "Enter month: 12\n",
            "Enter day: 12\n",
            "The Holiday is Jamhuri Day\n"
          ],
          "name": "stdout"
        }
      ]
    },
    {
      "cell_type": "code",
      "metadata": {
        "id": "szGqVsAc2zft",
        "colab_type": "code",
        "outputId": "cc3c449d-83e3-4cfb-c71f-a562f6dd18b7",
        "colab": {
          "base_uri": "https://localhost:8080/",
          "height": 54
        }
      },
      "source": [
        "# Challenge 2\n",
        "# Write a program that reads a wavelength from the user and reports its color. \n",
        "# Display an appropriate error message if the wavelength entered by the user \n",
        "# is outside of the visible spectrum. \n",
        "# (You can do external research on this challenge to determine the wavelength).\n",
        "# You should use the else keyword.\n",
        "#\n",
        "wavelength = int(input(\"Enter wavelength: \"))\n",
        "\n",
        "if (wavelength >= 380 and wavelength < 450):\n",
        "  print(\"Colour is violet\")\n",
        "elif (wavelength >= 450 and wavelength < 485):\n",
        "  print(\"Colour is blue\")\n",
        "elif (wavelength >= 485 and wavelength < 500):\n",
        "  print(\"Colour is cyan\")\n",
        "elif (wavelength >= 500 and wavelength < 565):\n",
        "  print(\"Colour is green\")\n",
        "elif (wavelength >= 565 and wavelength < 590):\n",
        "  print(\"Colour is yellow\")\n",
        "elif (wavelength >= 590 and wavelength < 625):\n",
        "  print(\"Colour is orange\")\n",
        "elif (wavelength >= 625 and wavelength <= 740):\n",
        "  print(\"Colour is red\")\n",
        "else:\n",
        "  print(\"Wavelength is outside viible spectrum\")"
      ],
      "execution_count": 0,
      "outputs": [
        {
          "output_type": "stream",
          "text": [
            "Enter wavelength: 500\n",
            "Colour is green\n"
          ],
          "name": "stdout"
        }
      ]
    },
    {
      "cell_type": "code",
      "metadata": {
        "id": "1uHkXVZtuMPK",
        "colab_type": "code",
        "outputId": "90f5c98f-ddae-4882-c5ac-ed3a37ab8ec7",
        "colab": {
          "base_uri": "https://localhost:8080/",
          "height": 72
        }
      },
      "source": [
        "# Challenge 3\n",
        "# Let's create a program that reads the name of a month from the user as a string, \n",
        "# then displays the number of days in that month. \n",
        "# The length of a month varies from 28 to 31 days. \n",
        "# The program needs to also display “28 or 29 days” for February \n",
        "# so that leap years are taken into account.\n",
        "# The program should use the else keyword.\n",
        "# \n",
        "month = input(\"Enter name of month: \")\n",
        "year = int(input(\"Enter current year: \"))\n",
        "  \n",
        "mon_31 = [\"January\", \"March\", \"May\", \"July\", \"August\", \"October\", \"December\"]\n",
        "mon_30 = [\"February\", \"April\", \"June\", \"September\", \"November\"]\n",
        "\n",
        "if (month == \"February\"):\n",
        "  if (year % 4 == 0):\n",
        "    \n",
        "    print(\"The month has 29 days\")\n",
        "  else:\n",
        "    print(\"The month has 28 days\")\n",
        "\n",
        "elif (month in mon_31):\n",
        "  print(\"The month has 31 days\")\n",
        "elif (month in mon_30):\n",
        "  print(\"The month has 30 days\")  \n",
        "\n",
        "  \n",
        "\n"
      ],
      "execution_count": 33,
      "outputs": [
        {
          "output_type": "stream",
          "text": [
            "Enter name of month: February\n",
            "Enter current year: 2004\n",
            "The month has 29 days\n"
          ],
          "name": "stdout"
        }
      ]
    },
    {
      "cell_type": "markdown",
      "metadata": {
        "id": "qs4cjFqC1wm6",
        "colab_type": "text"
      },
      "source": [
        "## 1.4 And"
      ]
    },
    {
      "cell_type": "code",
      "metadata": {
        "id": "QhXLc8z-2120",
        "colab_type": "code",
        "colab": {}
      },
      "source": [
        "# Example 1\n",
        "# We can also use the and keyword to combine conditional statements.\n",
        "#\n",
        "\n",
        "# Declaring our variables\n",
        "x = 11\n",
        "y = 10\n",
        "z = 12\n",
        "\n",
        "if x > y and z > x:\n",
        "  print(\"Both conditions are True\")"
      ],
      "execution_count": 0,
      "outputs": []
    },
    {
      "cell_type": "code",
      "metadata": {
        "id": "fRaI1Odr22lS",
        "colab_type": "code",
        "colab": {}
      },
      "source": [
        "# Example 2\n",
        "# \n",
        "\n",
        "# Declaring our variables\n",
        "name = \"James\"    \n",
        "age  = 24 \n",
        "\n",
        "if name == \"James\" and age == 24:\n",
        "  print(\"Your name is James, and you are also 24 years old.\")"
      ],
      "execution_count": 0,
      "outputs": []
    },
    {
      "cell_type": "code",
      "metadata": {
        "id": "VB5NlzM922Ux",
        "colab_type": "code",
        "outputId": "1b73f536-003d-4336-f9f6-ef90e7305bdc",
        "colab": {
          "base_uri": "https://localhost:8080/",
          "height": 35
        }
      },
      "source": [
        "# Example 3 \n",
        "#\n",
        "\n",
        "# Declaring our variables\n",
        "name = \"James\"      # Let's store our name in the name variable\n",
        "age  =  24        # Let's store our age in the age variable\n",
        "\n",
        "if name == \"James\" and age == 24:\n",
        "  print(\"Your name is James, and you are also 24 years old.\")\n",
        "else: \n",
        "  print(\"You are not James, who is 24 years old.\")"
      ],
      "execution_count": 0,
      "outputs": [
        {
          "output_type": "stream",
          "text": [
            "Your name is James, and you are also 24 years old.\n"
          ],
          "name": "stdout"
        }
      ]
    },
    {
      "cell_type": "markdown",
      "metadata": {
        "id": "UAFX7NgF23ab",
        "colab_type": "text"
      },
      "source": [
        "### <font color=\"green\">1.4 Challenges</font>"
      ]
    },
    {
      "cell_type": "code",
      "metadata": {
        "id": "g26Rql1z25Ff",
        "colab_type": "code",
        "colab": {
          "base_uri": "https://localhost:8080/",
          "height": 90
        },
        "outputId": "aea8962d-47a5-4bf4-c4df-0a071b295f58"
      },
      "source": [
        "# Challenge 1:\n",
        "# Given the 3 sides of a triangle x, y and z, let's find out \n",
        "# whether the triangle is equilateral, isosceles or obtuse.\n",
        "# Note: An equilateral triagnle has all sides are equal, \n",
        "# isosceles means that two of the sides are equal but not the third one, \n",
        "# obtuse means all 3 are different. The user will be prompted \n",
        "# to provide the values of x, y and z\n",
        "# \n",
        "\n",
        "x = float(input(\"Enter value of side x: \"))\n",
        "y = float(input(\"Enter value of side y: \"))\n",
        "z = float(input(\"Enter value of side z: \"))\n",
        "\n",
        "if (x == y and y == z):\n",
        "  print(\"The triangle is equilateral\")\n",
        "elif (x == y and y != z):\n",
        "  print(\"The triangle is isosceles\")\n",
        "elif (x == z and y != x):\n",
        "  print(\"The triangle is isosceles\")\n",
        "elif (y == z and z != x):\n",
        "  print(\"The triangle is isosceles\")\n",
        "else:\n",
        "  print(\"The triangle is obtuse\")"
      ],
      "execution_count": 12,
      "outputs": [
        {
          "output_type": "stream",
          "text": [
            "Enter value of side x: 2\n",
            "Enter value of side y: 3\n",
            "Enter value of side z: 3\n",
            "The triangle is isosceles\n"
          ],
          "name": "stdout"
        }
      ]
    },
    {
      "cell_type": "markdown",
      "metadata": {
        "id": "GLyWRU4w11-M",
        "colab_type": "text"
      },
      "source": [
        "## 1.5 Or"
      ]
    },
    {
      "cell_type": "code",
      "metadata": {
        "id": "jIyeUjAq3D2n",
        "colab_type": "code",
        "colab": {}
      },
      "source": [
        "# Example 1\n",
        "# We can also use the if keyword to combine conditional statements. \n",
        "#\n",
        "\n",
        "# Declaring our variables\n",
        "x = 10\n",
        "y = 11\n",
        "z = 9\n",
        "\n",
        "if x > y or x > z:\n",
        "  print(\"At least one of the conditions is True\")"
      ],
      "execution_count": 0,
      "outputs": []
    },
    {
      "cell_type": "code",
      "metadata": {
        "id": "bq7T-If83FVy",
        "colab_type": "code",
        "colab": {}
      },
      "source": [
        "# Example 2\n",
        "#\n",
        "\n",
        "# Declaring our variables\n",
        "x = int(input(\"Enter value of x = \"))\n",
        "y = int(input(\"Enter value of y = \"))\n",
        " \n",
        "if (x >= 15) or (y <= 25):\n",
        "  print(\"x >= 15 or y <= 25 so if statement is True\")\n",
        "else:\n",
        "  print(\"Value of x < 15 and y > 25 so if statement is False!\")"
      ],
      "execution_count": 0,
      "outputs": []
    },
    {
      "cell_type": "code",
      "metadata": {
        "id": "FN29xkMq3FnA",
        "colab_type": "code",
        "colab": {}
      },
      "source": [
        "# Example 3\n",
        "#\n",
        "\n",
        "# Declaring our variables\n",
        "w = 10\n",
        "x = 15\n",
        "y = 20\n",
        "z = 25\n",
        " \n",
        "if (w == 10 or x == 15) and (y == 16 or z == 25):\n",
        "  print(\"If statement is True\")\n",
        "else:\n",
        "  print(\"False\")"
      ],
      "execution_count": 0,
      "outputs": []
    },
    {
      "cell_type": "markdown",
      "metadata": {
        "id": "TNIQRbN-3GNh",
        "colab_type": "text"
      },
      "source": [
        "### <font color=\"green\">1.5 Challenges</font>"
      ]
    },
    {
      "cell_type": "code",
      "metadata": {
        "id": "Vhx4FY_P3J93",
        "colab_type": "code",
        "colab": {
          "base_uri": "https://localhost:8080/",
          "height": 90
        },
        "outputId": "cd7ecf8e-24db-4350-8e95-251d86359c5e"
      },
      "source": [
        "# Challenge 1\n",
        "# Using the Or operator, let's create a function \n",
        "# that determines the type of a triangle \n",
        "# based on the lengths of its sides. A user will be inputting\n",
        "# the sides of the triange\n",
        "#\n",
        "\n",
        "def typeOfTriangle():\n",
        "  x = float(input(\"Enter length of side x: \"))\n",
        "  y = float(input(\"Enter length of side y: \"))\n",
        "  z = float(input(\"Enter length of side z: \"))\n",
        "  \n",
        "  if (x == y and y == z):\n",
        "    print(\"The triangle is equilateral\")\n",
        "  elif (x == y and y != z) or (x == z and y != x) or (y == z and z != x):\n",
        "    print(\"The triangle is isosceles\")\n",
        "  \n",
        "  else:\n",
        "    print(\"The triangle is obtuse\")\n",
        "    \n",
        "typeOfTriangle()\n",
        "  \n",
        "  "
      ],
      "execution_count": 20,
      "outputs": [
        {
          "output_type": "stream",
          "text": [
            "Enter length of side x: 3\n",
            "Enter length of side y: 2\n",
            "Enter length of side z: 3\n",
            "The triangle is isosceles\n"
          ],
          "name": "stdout"
        }
      ]
    },
    {
      "cell_type": "code",
      "metadata": {
        "id": "VVh8NAu83KW6",
        "colab_type": "code",
        "colab": {
          "base_uri": "https://localhost:8080/",
          "height": 54
        },
        "outputId": "22646d57-3022-4711-c003-23a6ad4d2d7b"
      },
      "source": [
        "# Challenge 2\n",
        "# Using the Or operator, let's create a function \n",
        "# that checks whether a number given \n",
        "# by a user is greater than 30 or greater than 100. \n",
        "#\n",
        "\n",
        "def numSize():\n",
        "  numba = int(input(\"Enter number: \"))\n",
        "  \n",
        "  if (numba > 30) or (numba > 100):\n",
        "    print(\"Number input is greater than 30 or greater than 100\")\n",
        "    \n",
        "numSize()"
      ],
      "execution_count": 22,
      "outputs": [
        {
          "output_type": "stream",
          "text": [
            "Enter number: 40\n",
            "Number input is greater than 30 or greater than 100\n"
          ],
          "name": "stdout"
        }
      ]
    },
    {
      "cell_type": "code",
      "metadata": {
        "id": "5sMQVqPQtUaO",
        "colab_type": "code",
        "colab": {
          "base_uri": "https://localhost:8080/",
          "height": 54
        },
        "outputId": "77eba669-cb48-4b35-8e08-a7c26e98f5b1"
      },
      "source": [
        "# Challenge 3\n",
        "# Let's write a program that prompts a letter from a user. \n",
        "# When any of the letters a, e, i, o or u are entered, \n",
        "# then your program should display a message indicating that the entered letter is a vowel. \n",
        "# If the user enters y then your program should display a message \n",
        "# indicating that sometimes y is a vowel, and sometimes y is a consonant. \n",
        "# Else the program should display a message indicating that the letter is a consonant.\n",
        "#\n",
        "\n",
        "leta = input(\"Enter letter: \")\n",
        "\n",
        "vowels = ['a', 'e', 'i', 'o', 'u']\n",
        "\n",
        "if (leta in vowels):\n",
        "  print(\"Letter is a vowel\")\n",
        "elif (leta == 'y'):\n",
        "  print(\"Sometimes y is a vowel, and sometimes y is a consonant\")\n",
        "elif(leta not in vowels) or (leta != 'y'):\n",
        "  print(\"Letter is a consonant\")"
      ],
      "execution_count": 25,
      "outputs": [
        {
          "output_type": "stream",
          "text": [
            "Enter letter: a\n",
            "Letter is a vowel\n"
          ],
          "name": "stdout"
        }
      ]
    }
  ]
}